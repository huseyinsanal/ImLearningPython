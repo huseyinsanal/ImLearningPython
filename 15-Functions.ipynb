{
 "cells": [
  {
   "cell_type": "code",
   "execution_count": 1,
   "id": "4b4ca4d1",
   "metadata": {},
   "outputs": [],
   "source": [
    "# method vs functions"
   ]
  },
  {
   "cell_type": "code",
   "execution_count": 2,
   "id": "ee74e162",
   "metadata": {},
   "outputs": [],
   "source": [
    "my_name = \"huseyin\""
   ]
  },
  {
   "cell_type": "code",
   "execution_count": 3,
   "id": "4929ad1a",
   "metadata": {},
   "outputs": [
    {
     "data": {
      "text/plain": [
       "'HUSEYIN'"
      ]
     },
     "execution_count": 3,
     "metadata": {},
     "output_type": "execute_result"
    }
   ],
   "source": [
    "my_name.upper()"
   ]
  },
  {
   "cell_type": "code",
   "execution_count": 4,
   "id": "38f33850",
   "metadata": {},
   "outputs": [
    {
     "data": {
      "text/plain": [
       "'huseyin'"
      ]
     },
     "execution_count": 4,
     "metadata": {},
     "output_type": "execute_result"
    }
   ],
   "source": [
    "my_name"
   ]
  },
  {
   "cell_type": "code",
   "execution_count": 5,
   "id": "06e7044c",
   "metadata": {},
   "outputs": [],
   "source": [
    "my_name_upper = my_name.upper()"
   ]
  },
  {
   "cell_type": "code",
   "execution_count": 6,
   "id": "fe4ef7fc",
   "metadata": {},
   "outputs": [
    {
     "data": {
      "text/plain": [
       "'HUSEYIN'"
      ]
     },
     "execution_count": 6,
     "metadata": {},
     "output_type": "execute_result"
    }
   ],
   "source": [
    "my_name_upper"
   ]
  },
  {
   "cell_type": "code",
   "execution_count": 7,
   "id": "874023bb",
   "metadata": {},
   "outputs": [
    {
     "data": {
      "text/plain": [
       "'huseyin'"
      ]
     },
     "execution_count": 7,
     "metadata": {},
     "output_type": "execute_result"
    }
   ],
   "source": [
    "my_name"
   ]
  },
  {
   "cell_type": "code",
   "execution_count": 8,
   "id": "5fdadd40",
   "metadata": {},
   "outputs": [
    {
     "name": "stdout",
     "output_type": "stream",
     "text": [
      "Help on built-in function upper:\n",
      "\n",
      "upper() method of builtins.str instance\n",
      "    Return a copy of the string converted to uppercase.\n",
      "\n"
     ]
    }
   ],
   "source": [
    "help(my_name.upper)"
   ]
  },
  {
   "cell_type": "code",
   "execution_count": 9,
   "id": "2b5c5cd7",
   "metadata": {},
   "outputs": [],
   "source": [
    "#functions"
   ]
  },
  {
   "cell_type": "code",
   "execution_count": 10,
   "id": "28c9be61",
   "metadata": {},
   "outputs": [],
   "source": [
    "def hello_python():\n",
    "    print(\"hello\")\n",
    "    print(\"python\")"
   ]
  },
  {
   "cell_type": "code",
   "execution_count": 11,
   "id": "e5a236f5",
   "metadata": {},
   "outputs": [
    {
     "data": {
      "text/plain": [
       "<function __main__.hello_python()>"
      ]
     },
     "execution_count": 11,
     "metadata": {},
     "output_type": "execute_result"
    }
   ],
   "source": [
    "hello_python"
   ]
  },
  {
   "cell_type": "code",
   "execution_count": 12,
   "id": "74e2489f",
   "metadata": {},
   "outputs": [
    {
     "name": "stdout",
     "output_type": "stream",
     "text": [
      "hello\n",
      "python\n"
     ]
    }
   ],
   "source": [
    "hello_python()"
   ]
  },
  {
   "cell_type": "code",
   "execution_count": 13,
   "id": "b2c16e02",
   "metadata": {},
   "outputs": [
    {
     "name": "stdout",
     "output_type": "stream",
     "text": [
      "hello\n",
      "python\n"
     ]
    }
   ],
   "source": [
    "hello_python()"
   ]
  },
  {
   "cell_type": "code",
   "execution_count": 14,
   "id": "9833d984",
   "metadata": {},
   "outputs": [],
   "source": [
    "#input"
   ]
  },
  {
   "cell_type": "code",
   "execution_count": 15,
   "id": "c943a11e",
   "metadata": {},
   "outputs": [],
   "source": [
    "def hello_name(name):\n",
    "    print(\"hello\")\n",
    "    print(name)"
   ]
  },
  {
   "cell_type": "code",
   "execution_count": 16,
   "id": "fdb42fd8",
   "metadata": {},
   "outputs": [
    {
     "name": "stdout",
     "output_type": "stream",
     "text": [
      "hello\n",
      "huseyin\n"
     ]
    }
   ],
   "source": [
    "hello_name(\"huseyin\")"
   ]
  },
  {
   "cell_type": "code",
   "execution_count": 17,
   "id": "ae39a414",
   "metadata": {},
   "outputs": [
    {
     "name": "stdout",
     "output_type": "stream",
     "text": [
      "hello\n",
      "python\n"
     ]
    }
   ],
   "source": [
    "hello_name(\"python\")"
   ]
  },
  {
   "cell_type": "code",
   "execution_count": 18,
   "id": "23c452f8",
   "metadata": {},
   "outputs": [
    {
     "name": "stdout",
     "output_type": "stream",
     "text": [
      "hello\n",
      "java\n"
     ]
    }
   ],
   "source": [
    "hello_name(\"java\")"
   ]
  },
  {
   "cell_type": "code",
   "execution_count": 19,
   "id": "eb0f9ce6",
   "metadata": {},
   "outputs": [],
   "source": [
    "def sum_example(num1,num2):\n",
    "    print(num1 + num2)"
   ]
  },
  {
   "cell_type": "code",
   "execution_count": 20,
   "id": "a6084f36",
   "metadata": {},
   "outputs": [
    {
     "name": "stdout",
     "output_type": "stream",
     "text": [
      "15\n"
     ]
    }
   ],
   "source": [
    "sum_example(5,10)"
   ]
  },
  {
   "cell_type": "code",
   "execution_count": 21,
   "id": "96dd2cd0",
   "metadata": {},
   "outputs": [],
   "source": [
    "def sum_example_2(num1,num2):\n",
    "    num3 = num1 + num2\n",
    "    print(num3)"
   ]
  },
  {
   "cell_type": "code",
   "execution_count": 22,
   "id": "0684028a",
   "metadata": {},
   "outputs": [
    {
     "name": "stdout",
     "output_type": "stream",
     "text": [
      "32\n"
     ]
    }
   ],
   "source": [
    "sum_example_2(20,12)"
   ]
  },
  {
   "cell_type": "code",
   "execution_count": 23,
   "id": "fbd45ce3",
   "metadata": {},
   "outputs": [
    {
     "name": "stdout",
     "output_type": "stream",
     "text": [
      "hello\n",
      "required\n"
     ]
    }
   ],
   "source": [
    "hello_name(\"required\")"
   ]
  },
  {
   "cell_type": "code",
   "execution_count": 24,
   "id": "bf932187",
   "metadata": {},
   "outputs": [],
   "source": [
    "def hello_surname(surname=\"sanal\"):\n",
    "    print(\"hello\")\n",
    "    print(surname)"
   ]
  },
  {
   "cell_type": "code",
   "execution_count": 25,
   "id": "eae56266",
   "metadata": {},
   "outputs": [
    {
     "name": "stdout",
     "output_type": "stream",
     "text": [
      "hello\n",
      "sam\n"
     ]
    }
   ],
   "source": [
    "hello_surname(\"sam\")"
   ]
  },
  {
   "cell_type": "code",
   "execution_count": 26,
   "id": "fa0a0b6d",
   "metadata": {},
   "outputs": [
    {
     "name": "stdout",
     "output_type": "stream",
     "text": [
      "hello\n",
      "sanal\n"
     ]
    }
   ],
   "source": [
    "hello_surname()"
   ]
  },
  {
   "cell_type": "code",
   "execution_count": 27,
   "id": "7af81f07",
   "metadata": {},
   "outputs": [],
   "source": [
    "def hello_love(ask = \"gaaaamzemmm\"):\n",
    "    print(f\"hello {ask}\")"
   ]
  },
  {
   "cell_type": "code",
   "execution_count": 28,
   "id": "ef7914b6",
   "metadata": {},
   "outputs": [
    {
     "name": "stdout",
     "output_type": "stream",
     "text": [
      "hello gamze\n"
     ]
    }
   ],
   "source": [
    "hello_love(\"gamze\")"
   ]
  },
  {
   "cell_type": "code",
   "execution_count": 29,
   "id": "5b2736d0",
   "metadata": {},
   "outputs": [
    {
     "name": "stdout",
     "output_type": "stream",
     "text": [
      "hello gaaaamzemmm\n"
     ]
    }
   ],
   "source": [
    "hello_love()"
   ]
  },
  {
   "cell_type": "code",
   "execution_count": 30,
   "id": "aaf6b630",
   "metadata": {},
   "outputs": [],
   "source": [
    "#return"
   ]
  },
  {
   "cell_type": "code",
   "execution_count": null,
   "id": "b06596c4",
   "metadata": {},
   "outputs": [],
   "source": []
  }
 ],
 "metadata": {
  "kernelspec": {
   "display_name": "Python 3 (ipykernel)",
   "language": "python",
   "name": "python3"
  },
  "language_info": {
   "codemirror_mode": {
    "name": "ipython",
    "version": 3
   },
   "file_extension": ".py",
   "mimetype": "text/x-python",
   "name": "python",
   "nbconvert_exporter": "python",
   "pygments_lexer": "ipython3",
   "version": "3.10.9"
  }
 },
 "nbformat": 4,
 "nbformat_minor": 5
}
