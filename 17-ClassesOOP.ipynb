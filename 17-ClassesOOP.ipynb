{
 "cells": [
  {
   "cell_type": "code",
   "execution_count": 1,
   "id": "05f83e88",
   "metadata": {},
   "outputs": [],
   "source": [
    "huseyinName = \"Huseyin\""
   ]
  },
  {
   "cell_type": "code",
   "execution_count": 2,
   "id": "31fb2816",
   "metadata": {},
   "outputs": [],
   "source": [
    "huseyinAge = 24"
   ]
  },
  {
   "cell_type": "code",
   "execution_count": 3,
   "id": "207a0e6c",
   "metadata": {},
   "outputs": [],
   "source": [
    "huseyinGender = \"Male\""
   ]
  },
  {
   "cell_type": "code",
   "execution_count": 4,
   "id": "99bf3040",
   "metadata": {},
   "outputs": [],
   "source": [
    "gamzeName = \"Gamze\""
   ]
  },
  {
   "cell_type": "code",
   "execution_count": 5,
   "id": "60d17128",
   "metadata": {},
   "outputs": [],
   "source": [
    "gamzeAge = 23"
   ]
  },
  {
   "cell_type": "code",
   "execution_count": 6,
   "id": "8030a65c",
   "metadata": {},
   "outputs": [],
   "source": [
    "gamzeGender = \"Female\""
   ]
  },
  {
   "cell_type": "code",
   "execution_count": 7,
   "id": "a3be0401",
   "metadata": {},
   "outputs": [],
   "source": [
    "class Person():\n",
    "    \n",
    "    #property\n",
    "    #name = \"\"\n",
    "    #age = 0\n",
    "    #gender = \"\"\n",
    "    job = \"developer\"\n",
    "    \n",
    "    #method, initializer method\n",
    "    def __init__(self,name,age,gender):\n",
    "        \n",
    "        self.name = name\n",
    "        self.age = age\n",
    "        self.gender = gender        \n",
    "        \n",
    "    #method\n",
    "    def printName(self):\n",
    "        print(self.name)"
   ]
  },
  {
   "cell_type": "code",
   "execution_count": 8,
   "id": "ff7ef149",
   "metadata": {},
   "outputs": [],
   "source": [
    "huseyin = Person(\"Huseyin\",24,\"Male\")"
   ]
  },
  {
   "cell_type": "code",
   "execution_count": 9,
   "id": "d132aa56",
   "metadata": {},
   "outputs": [
    {
     "data": {
      "text/plain": [
       "__main__.Person"
      ]
     },
     "execution_count": 9,
     "metadata": {},
     "output_type": "execute_result"
    }
   ],
   "source": [
    "type(huseyin)"
   ]
  },
  {
   "cell_type": "code",
   "execution_count": 10,
   "id": "9691e6d2",
   "metadata": {},
   "outputs": [
    {
     "data": {
      "text/plain": [
       "'Huseyin'"
      ]
     },
     "execution_count": 10,
     "metadata": {},
     "output_type": "execute_result"
    }
   ],
   "source": [
    "huseyin.name"
   ]
  },
  {
   "cell_type": "code",
   "execution_count": 11,
   "id": "6628b5d0",
   "metadata": {},
   "outputs": [
    {
     "data": {
      "text/plain": [
       "24"
      ]
     },
     "execution_count": 11,
     "metadata": {},
     "output_type": "execute_result"
    }
   ],
   "source": [
    "huseyin.age"
   ]
  },
  {
   "cell_type": "code",
   "execution_count": 12,
   "id": "f723ab6a",
   "metadata": {},
   "outputs": [
    {
     "data": {
      "text/plain": [
       "'Male'"
      ]
     },
     "execution_count": 12,
     "metadata": {},
     "output_type": "execute_result"
    }
   ],
   "source": [
    "huseyin.gender"
   ]
  },
  {
   "cell_type": "code",
   "execution_count": 13,
   "id": "9e8fbe94",
   "metadata": {},
   "outputs": [
    {
     "name": "stdout",
     "output_type": "stream",
     "text": [
      "Huseyin\n"
     ]
    }
   ],
   "source": [
    "huseyin.printName()"
   ]
  },
  {
   "cell_type": "code",
   "execution_count": 14,
   "id": "78e548aa",
   "metadata": {},
   "outputs": [
    {
     "data": {
      "text/plain": [
       "'developer'"
      ]
     },
     "execution_count": 14,
     "metadata": {},
     "output_type": "execute_result"
    }
   ],
   "source": [
    "huseyin.job"
   ]
  },
  {
   "cell_type": "code",
   "execution_count": 15,
   "id": "9670b88f",
   "metadata": {},
   "outputs": [],
   "source": [
    "huseyin.job = \"Developer\""
   ]
  },
  {
   "cell_type": "code",
   "execution_count": 16,
   "id": "eef117c3",
   "metadata": {},
   "outputs": [
    {
     "data": {
      "text/plain": [
       "'Developer'"
      ]
     },
     "execution_count": 16,
     "metadata": {},
     "output_type": "execute_result"
    }
   ],
   "source": [
    "huseyin.job"
   ]
  },
  {
   "cell_type": "code",
   "execution_count": 17,
   "id": "49c7b805",
   "metadata": {},
   "outputs": [],
   "source": [
    "huseyin.job = \"instructor\""
   ]
  },
  {
   "cell_type": "code",
   "execution_count": 18,
   "id": "53bc2745",
   "metadata": {},
   "outputs": [
    {
     "data": {
      "text/plain": [
       "'instructor'"
      ]
     },
     "execution_count": 18,
     "metadata": {},
     "output_type": "execute_result"
    }
   ],
   "source": [
    "huseyin.job"
   ]
  },
  {
   "cell_type": "code",
   "execution_count": 48,
   "id": "128871b9",
   "metadata": {},
   "outputs": [],
   "source": [
    "class Dog():\n",
    "    \n",
    "    year = 7\n",
    "    \n",
    "    def __init__(self,age = 5):\n",
    "        self.age = age\n",
    "        self.dogHumanAge = age * self.year\n",
    "        print(\"dog instance\")\n",
    "        \n",
    "    def humanAge(self):\n",
    "\n",
    "        return self.age * Dog.year   #Dog.year -> self.year"
   ]
  },
  {
   "cell_type": "code",
   "execution_count": 49,
   "id": "9e467a7e",
   "metadata": {},
   "outputs": [
    {
     "name": "stdout",
     "output_type": "stream",
     "text": [
      "dog instance\n"
     ]
    }
   ],
   "source": [
    "myDog = Dog(3)"
   ]
  },
  {
   "cell_type": "code",
   "execution_count": 50,
   "id": "050491bc",
   "metadata": {},
   "outputs": [
    {
     "data": {
      "text/plain": [
       "3"
      ]
     },
     "execution_count": 50,
     "metadata": {},
     "output_type": "execute_result"
    }
   ],
   "source": [
    "myDog.age"
   ]
  },
  {
   "cell_type": "code",
   "execution_count": 51,
   "id": "90d66d4c",
   "metadata": {},
   "outputs": [
    {
     "data": {
      "text/plain": [
       "21"
      ]
     },
     "execution_count": 51,
     "metadata": {},
     "output_type": "execute_result"
    }
   ],
   "source": [
    "myDog.humanAge()"
   ]
  },
  {
   "cell_type": "code",
   "execution_count": 52,
   "id": "27dd8045",
   "metadata": {},
   "outputs": [
    {
     "data": {
      "text/plain": [
       "21"
      ]
     },
     "execution_count": 52,
     "metadata": {},
     "output_type": "execute_result"
    }
   ],
   "source": [
    "myDog.dogHumanAge"
   ]
  },
  {
   "cell_type": "code",
   "execution_count": 53,
   "id": "b8002921",
   "metadata": {},
   "outputs": [
    {
     "name": "stdout",
     "output_type": "stream",
     "text": [
      "dog instance\n"
     ]
    }
   ],
   "source": [
    "barley = Dog()"
   ]
  },
  {
   "cell_type": "code",
   "execution_count": 54,
   "id": "c8452374",
   "metadata": {},
   "outputs": [
    {
     "data": {
      "text/plain": [
       "35"
      ]
     },
     "execution_count": 54,
     "metadata": {},
     "output_type": "execute_result"
    }
   ],
   "source": [
    "barley.dogHumanAge"
   ]
  },
  {
   "cell_type": "code",
   "execution_count": 55,
   "id": "ddc9f96c",
   "metadata": {},
   "outputs": [
    {
     "data": {
      "text/plain": [
       "5"
      ]
     },
     "execution_count": 55,
     "metadata": {},
     "output_type": "execute_result"
    }
   ],
   "source": [
    "barley.age\n"
   ]
  },
  {
   "cell_type": "code",
   "execution_count": null,
   "id": "a1addf1f",
   "metadata": {},
   "outputs": [],
   "source": []
  }
 ],
 "metadata": {
  "kernelspec": {
   "display_name": "Python 3 (ipykernel)",
   "language": "python",
   "name": "python3"
  },
  "language_info": {
   "codemirror_mode": {
    "name": "ipython",
    "version": 3
   },
   "file_extension": ".py",
   "mimetype": "text/x-python",
   "name": "python",
   "nbconvert_exporter": "python",
   "pygments_lexer": "ipython3",
   "version": "3.10.9"
  }
 },
 "nbformat": 4,
 "nbformat_minor": 5
}
