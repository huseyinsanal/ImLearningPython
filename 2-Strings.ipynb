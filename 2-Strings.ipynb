{
 "cells": [
  {
   "cell_type": "markdown",
   "id": "fa76e1c1",
   "metadata": {},
   "source": [
    "# 2-Strings"
   ]
  },
  {
   "cell_type": "code",
   "execution_count": 1,
   "id": "50a13a79",
   "metadata": {},
   "outputs": [
    {
     "data": {
      "text/plain": [
       "'hello world'"
      ]
     },
     "execution_count": 1,
     "metadata": {},
     "output_type": "execute_result"
    }
   ],
   "source": [
    "\"hello world\""
   ]
  },
  {
   "cell_type": "code",
   "execution_count": 2,
   "id": "b11906a9",
   "metadata": {},
   "outputs": [
    {
     "name": "stdout",
     "output_type": "stream",
     "text": [
      "hello python\n"
     ]
    }
   ],
   "source": [
    "print(\"hello python\")"
   ]
  },
  {
   "cell_type": "code",
   "execution_count": 3,
   "id": "d7873ee3",
   "metadata": {},
   "outputs": [],
   "source": [
    "name = \"huseyin\""
   ]
  },
  {
   "cell_type": "code",
   "execution_count": 4,
   "id": "c1e2f677",
   "metadata": {},
   "outputs": [
    {
     "data": {
      "text/plain": [
       "str"
      ]
     },
     "execution_count": 4,
     "metadata": {},
     "output_type": "execute_result"
    }
   ],
   "source": [
    "type(name)"
   ]
  },
  {
   "cell_type": "code",
   "execution_count": 5,
   "id": "3c3f93d2",
   "metadata": {},
   "outputs": [
    {
     "name": "stdout",
     "output_type": "stream",
     "text": [
      "huseyin\n"
     ]
    }
   ],
   "source": [
    "print(name)"
   ]
  },
  {
   "cell_type": "code",
   "execution_count": 6,
   "id": "9500ecab",
   "metadata": {},
   "outputs": [
    {
     "data": {
      "text/plain": [
       "'huseyin sanal'"
      ]
     },
     "execution_count": 6,
     "metadata": {},
     "output_type": "execute_result"
    }
   ],
   "source": [
    "'huseyin sanal'"
   ]
  },
  {
   "cell_type": "code",
   "execution_count": 7,
   "id": "2659332c",
   "metadata": {},
   "outputs": [
    {
     "data": {
      "text/plain": [
       "\"huseyin's sanal\""
      ]
     },
     "execution_count": 7,
     "metadata": {},
     "output_type": "execute_result"
    }
   ],
   "source": [
    "\"huseyin's sanal\""
   ]
  },
  {
   "cell_type": "code",
   "execution_count": 8,
   "id": "38286d11",
   "metadata": {},
   "outputs": [
    {
     "data": {
      "text/plain": [
       "\"huseyin's sanal\""
      ]
     },
     "execution_count": 8,
     "metadata": {},
     "output_type": "execute_result"
    }
   ],
   "source": [
    "\"huseyin's sanal\""
   ]
  },
  {
   "cell_type": "code",
   "execution_count": 9,
   "id": "3ad55ffd",
   "metadata": {},
   "outputs": [
    {
     "name": "stdout",
     "output_type": "stream",
     "text": [
      "huseyin\n"
     ]
    }
   ],
   "source": [
    "type(name)\n",
    "print(name)"
   ]
  },
  {
   "cell_type": "code",
   "execution_count": 10,
   "id": "bed7d5e5",
   "metadata": {},
   "outputs": [
    {
     "data": {
      "text/plain": [
       "str"
      ]
     },
     "execution_count": 10,
     "metadata": {},
     "output_type": "execute_result"
    }
   ],
   "source": [
    "type(name)"
   ]
  },
  {
   "cell_type": "code",
   "execution_count": 11,
   "id": "6ee8a0ea",
   "metadata": {},
   "outputs": [],
   "source": [
    "name = \"huseyin sanal\""
   ]
  },
  {
   "cell_type": "code",
   "execution_count": 12,
   "id": "66ef80a3",
   "metadata": {},
   "outputs": [
    {
     "data": {
      "text/plain": [
       "'Huseyin sanal'"
      ]
     },
     "execution_count": 12,
     "metadata": {},
     "output_type": "execute_result"
    }
   ],
   "source": [
    "name.capitalize()"
   ]
  },
  {
   "cell_type": "code",
   "execution_count": 13,
   "id": "973d054e",
   "metadata": {},
   "outputs": [
    {
     "data": {
      "text/plain": [
       "<function str.capitalize()>"
      ]
     },
     "execution_count": 13,
     "metadata": {},
     "output_type": "execute_result"
    }
   ],
   "source": [
    "name.capitalize"
   ]
  },
  {
   "cell_type": "code",
   "execution_count": 14,
   "id": "9e7be962",
   "metadata": {},
   "outputs": [],
   "source": [
    "x = 10"
   ]
  },
  {
   "cell_type": "code",
   "execution_count": 15,
   "id": "6e5c799a",
   "metadata": {},
   "outputs": [
    {
     "data": {
      "text/plain": [
       "2"
      ]
     },
     "execution_count": 15,
     "metadata": {},
     "output_type": "execute_result"
    }
   ],
   "source": [
    "x.bit_count()"
   ]
  },
  {
   "cell_type": "code",
   "execution_count": 16,
   "id": "2fd33353",
   "metadata": {},
   "outputs": [
    {
     "data": {
      "text/plain": [
       "4"
      ]
     },
     "execution_count": 16,
     "metadata": {},
     "output_type": "execute_result"
    }
   ],
   "source": [
    "x.bit_length()"
   ]
  },
  {
   "cell_type": "code",
   "execution_count": 17,
   "id": "9b1cffdb",
   "metadata": {},
   "outputs": [
    {
     "data": {
      "text/plain": [
       "'huseyin sanal'"
      ]
     },
     "execution_count": 17,
     "metadata": {},
     "output_type": "execute_result"
    }
   ],
   "source": [
    " name"
   ]
  },
  {
   "cell_type": "code",
   "execution_count": 18,
   "id": "40a04c26",
   "metadata": {},
   "outputs": [
    {
     "data": {
      "text/plain": [
       "'huseyin sanal'"
      ]
     },
     "execution_count": 18,
     "metadata": {},
     "output_type": "execute_result"
    }
   ],
   "source": [
    "name.casefold()"
   ]
  },
  {
   "cell_type": "code",
   "execution_count": 25,
   "id": "3f7a429f",
   "metadata": {},
   "outputs": [
    {
     "name": "stdout",
     "output_type": "stream",
     "text": [
      "Help on built-in function capitalize:\n",
      "\n",
      "capitalize() method of builtins.str instance\n",
      "    Return a capitalized version of the string.\n",
      "    \n",
      "    More specifically, make the first character have upper case and the rest lower\n",
      "    case.\n",
      "\n"
     ]
    }
   ],
   "source": [
    "help(name.capitalize)"
   ]
  },
  {
   "cell_type": "code",
   "execution_count": 26,
   "id": "57041455",
   "metadata": {},
   "outputs": [
    {
     "name": "stdout",
     "output_type": "stream",
     "text": [
      "Help on built-in function count:\n",
      "\n",
      "count(...) method of builtins.str instance\n",
      "    S.count(sub[, start[, end]]) -> int\n",
      "    \n",
      "    Return the number of non-overlapping occurrences of substring sub in\n",
      "    string S[start:end].  Optional arguments start and end are\n",
      "    interpreted as in slice notation.\n",
      "\n"
     ]
    }
   ],
   "source": [
    "help(name.count)"
   ]
  },
  {
   "cell_type": "code",
   "execution_count": 29,
   "id": "a88b3048",
   "metadata": {},
   "outputs": [
    {
     "data": {
      "text/plain": [
       "2"
      ]
     },
     "execution_count": 29,
     "metadata": {},
     "output_type": "execute_result"
    }
   ],
   "source": [
    "name.count(\"a\")"
   ]
  },
  {
   "cell_type": "code",
   "execution_count": 30,
   "id": "df5ce947",
   "metadata": {},
   "outputs": [
    {
     "data": {
      "text/plain": [
       "1"
      ]
     },
     "execution_count": 30,
     "metadata": {},
     "output_type": "execute_result"
    }
   ],
   "source": [
    "name.count(\"u\")"
   ]
  },
  {
   "cell_type": "code",
   "execution_count": 31,
   "id": "89c3bf0b",
   "metadata": {},
   "outputs": [
    {
     "data": {
      "text/plain": [
       "2"
      ]
     },
     "execution_count": 31,
     "metadata": {},
     "output_type": "execute_result"
    }
   ],
   "source": [
    "name.count(\"n\")"
   ]
  },
  {
   "cell_type": "code",
   "execution_count": 32,
   "id": "b228b66e",
   "metadata": {},
   "outputs": [
    {
     "data": {
      "text/plain": [
       "'HUSEYIN SANAL'"
      ]
     },
     "execution_count": 32,
     "metadata": {},
     "output_type": "execute_result"
    }
   ],
   "source": [
    "name.upper()"
   ]
  },
  {
   "cell_type": "code",
   "execution_count": 33,
   "id": "db1891c6",
   "metadata": {},
   "outputs": [
    {
     "data": {
      "text/plain": [
       "'huseyin sanal'"
      ]
     },
     "execution_count": 33,
     "metadata": {},
     "output_type": "execute_result"
    }
   ],
   "source": [
    "name "
   ]
  },
  {
   "cell_type": "code",
   "execution_count": 34,
   "id": "423a792f",
   "metadata": {},
   "outputs": [],
   "source": [
    "name = \"hüseyin şanal\""
   ]
  },
  {
   "cell_type": "code",
   "execution_count": 35,
   "id": "98bdce8c",
   "metadata": {},
   "outputs": [
    {
     "data": {
      "text/plain": [
       "'hüseyin şanal'"
      ]
     },
     "execution_count": 35,
     "metadata": {},
     "output_type": "execute_result"
    }
   ],
   "source": [
    "name"
   ]
  },
  {
   "cell_type": "code",
   "execution_count": 36,
   "id": "b9fe0eb1",
   "metadata": {},
   "outputs": [
    {
     "data": {
      "text/plain": [
       "'HÜSEYIN ŞANAL'"
      ]
     },
     "execution_count": 36,
     "metadata": {},
     "output_type": "execute_result"
    }
   ],
   "source": [
    "name.upper()"
   ]
  },
  {
   "cell_type": "code",
   "execution_count": 37,
   "id": "d6b9e994",
   "metadata": {},
   "outputs": [],
   "source": [
    "name = \"huseyin sanal\""
   ]
  },
  {
   "cell_type": "code",
   "execution_count": 38,
   "id": "b46ba36a",
   "metadata": {},
   "outputs": [
    {
     "data": {
      "text/plain": [
       "'huseyin sanal'"
      ]
     },
     "execution_count": 38,
     "metadata": {},
     "output_type": "execute_result"
    }
   ],
   "source": [
    "name"
   ]
  },
  {
   "cell_type": "code",
   "execution_count": 39,
   "id": "a7d23930",
   "metadata": {},
   "outputs": [],
   "source": [
    "x = 10\n",
    "y = 5"
   ]
  },
  {
   "cell_type": "code",
   "execution_count": 40,
   "id": "4e8c6ff2",
   "metadata": {},
   "outputs": [
    {
     "data": {
      "text/plain": [
       "15"
      ]
     },
     "execution_count": 40,
     "metadata": {},
     "output_type": "execute_result"
    }
   ],
   "source": [
    "x + y"
   ]
  },
  {
   "cell_type": "code",
   "execution_count": 41,
   "id": "cf6aebb1",
   "metadata": {},
   "outputs": [],
   "source": [
    "z = x + y"
   ]
  },
  {
   "cell_type": "code",
   "execution_count": 42,
   "id": "8d5c43a0",
   "metadata": {},
   "outputs": [
    {
     "data": {
      "text/plain": [
       "15"
      ]
     },
     "execution_count": 42,
     "metadata": {},
     "output_type": "execute_result"
    }
   ],
   "source": [
    "z"
   ]
  },
  {
   "cell_type": "code",
   "execution_count": 43,
   "id": "3318b8ba",
   "metadata": {},
   "outputs": [],
   "source": [
    "nameUpper = name.upper()"
   ]
  },
  {
   "cell_type": "code",
   "execution_count": 44,
   "id": "afecfeed",
   "metadata": {},
   "outputs": [
    {
     "data": {
      "text/plain": [
       "'HUSEYIN SANAL'"
      ]
     },
     "execution_count": 44,
     "metadata": {},
     "output_type": "execute_result"
    }
   ],
   "source": [
    "nameUpper"
   ]
  },
  {
   "cell_type": "code",
   "execution_count": 45,
   "id": "6de7e357",
   "metadata": {},
   "outputs": [
    {
     "data": {
      "text/plain": [
       "'huseyin sanal'"
      ]
     },
     "execution_count": 45,
     "metadata": {},
     "output_type": "execute_result"
    }
   ],
   "source": [
    "name"
   ]
  },
  {
   "cell_type": "code",
   "execution_count": 46,
   "id": "61aa35cf",
   "metadata": {},
   "outputs": [
    {
     "name": "stdout",
     "output_type": "stream",
     "text": [
      "Help on built-in function upper:\n",
      "\n",
      "upper() method of builtins.str instance\n",
      "    Return a copy of the string converted to uppercase.\n",
      "\n"
     ]
    }
   ],
   "source": [
    "help(name.upper)"
   ]
  },
  {
   "cell_type": "code",
   "execution_count": 48,
   "id": "5a5ec73d",
   "metadata": {},
   "outputs": [
    {
     "data": {
      "text/plain": [
       "13"
      ]
     },
     "execution_count": 48,
     "metadata": {},
     "output_type": "execute_result"
    }
   ],
   "source": [
    "len(name)  # lengt"
   ]
  },
  {
   "cell_type": "code",
   "execution_count": 49,
   "id": "f99ed1f8",
   "metadata": {},
   "outputs": [
    {
     "name": "stdout",
     "output_type": "stream",
     "text": [
      "huseyin sanal\n"
     ]
    }
   ],
   "source": [
    "print(\"huseyin sanal\")"
   ]
  },
  {
   "cell_type": "code",
   "execution_count": 50,
   "id": "043c516d",
   "metadata": {},
   "outputs": [
    {
     "name": "stdout",
     "output_type": "stream",
     "text": [
      "huseyin \n",
      "sanal\n"
     ]
    }
   ],
   "source": [
    "print(\"huseyin \\nsanal\")"
   ]
  },
  {
   "cell_type": "code",
   "execution_count": 51,
   "id": "10235e45",
   "metadata": {},
   "outputs": [],
   "source": [
    "# \\n -> new line"
   ]
  },
  {
   "cell_type": "code",
   "execution_count": 52,
   "id": "752007eb",
   "metadata": {},
   "outputs": [],
   "source": [
    "# escape characters"
   ]
  },
  {
   "cell_type": "code",
   "execution_count": 53,
   "id": "2be3ad72",
   "metadata": {},
   "outputs": [],
   "source": [
    "# \\t -> tab"
   ]
  },
  {
   "cell_type": "code",
   "execution_count": 54,
   "id": "4cbe6ce0",
   "metadata": {},
   "outputs": [
    {
     "name": "stdout",
     "output_type": "stream",
     "text": [
      "huseyin\tsanal\n"
     ]
    }
   ],
   "source": [
    "print(\"huseyin\\tsanal\")"
   ]
  },
  {
   "cell_type": "code",
   "execution_count": 55,
   "id": "4e7c2633",
   "metadata": {},
   "outputs": [
    {
     "name": "stdout",
     "output_type": "stream",
     "text": [
      "huseyin \tsanal\n"
     ]
    }
   ],
   "source": [
    "print(\"huseyin \\tsanal\")"
   ]
  },
  {
   "cell_type": "markdown",
   "id": "76a2d4cd",
   "metadata": {},
   "source": [
    "# index"
   ]
  },
  {
   "cell_type": "code",
   "execution_count": 56,
   "id": "e73c9ce9",
   "metadata": {},
   "outputs": [],
   "source": [
    "myString = \"hello python\""
   ]
  },
  {
   "cell_type": "code",
   "execution_count": 57,
   "id": "96d10954",
   "metadata": {},
   "outputs": [
    {
     "data": {
      "text/plain": [
       "'o'"
      ]
     },
     "execution_count": 57,
     "metadata": {},
     "output_type": "execute_result"
    }
   ],
   "source": [
    "myString[4]"
   ]
  },
  {
   "cell_type": "code",
   "execution_count": 58,
   "id": "8a63ad56",
   "metadata": {},
   "outputs": [
    {
     "data": {
      "text/plain": [
       "'h'"
      ]
     },
     "execution_count": 58,
     "metadata": {},
     "output_type": "execute_result"
    }
   ],
   "source": [
    "myString[0]"
   ]
  },
  {
   "cell_type": "code",
   "execution_count": 60,
   "id": "05015a3b",
   "metadata": {},
   "outputs": [
    {
     "data": {
      "text/plain": [
       "'n'"
      ]
     },
     "execution_count": 60,
     "metadata": {},
     "output_type": "execute_result"
    }
   ],
   "source": [
    "myString[11]"
   ]
  },
  {
   "cell_type": "code",
   "execution_count": 61,
   "id": "d21acca5",
   "metadata": {},
   "outputs": [
    {
     "data": {
      "text/plain": [
       "' '"
      ]
     },
     "execution_count": 61,
     "metadata": {},
     "output_type": "execute_result"
    }
   ],
   "source": [
    "myString[5]"
   ]
  },
  {
   "cell_type": "code",
   "execution_count": 62,
   "id": "a0b05c33",
   "metadata": {},
   "outputs": [],
   "source": [
    "myString = \"huseyin sanal\""
   ]
  },
  {
   "cell_type": "code",
   "execution_count": 63,
   "id": "e218ab94",
   "metadata": {},
   "outputs": [
    {
     "data": {
      "text/plain": [
       "'h'"
      ]
     },
     "execution_count": 63,
     "metadata": {},
     "output_type": "execute_result"
    }
   ],
   "source": [
    "myString[0]"
   ]
  },
  {
   "cell_type": "code",
   "execution_count": 64,
   "id": "413ce5e2",
   "metadata": {},
   "outputs": [
    {
     "data": {
      "text/plain": [
       "12"
      ]
     },
     "execution_count": 64,
     "metadata": {},
     "output_type": "execute_result"
    }
   ],
   "source": [
    "len(myString) - 1 "
   ]
  },
  {
   "cell_type": "code",
   "execution_count": 67,
   "id": "fe17918a",
   "metadata": {},
   "outputs": [],
   "source": [
    "myName = \"james hetfield\""
   ]
  },
  {
   "cell_type": "code",
   "execution_count": 68,
   "id": "973f34a6",
   "metadata": {},
   "outputs": [
    {
     "data": {
      "text/plain": [
       "13"
      ]
     },
     "execution_count": 68,
     "metadata": {},
     "output_type": "execute_result"
    }
   ],
   "source": [
    "len(myName) - 1"
   ]
  },
  {
   "cell_type": "code",
   "execution_count": 69,
   "id": "db59ad4c",
   "metadata": {},
   "outputs": [],
   "source": [
    "lastCharacterNumber = len(myName) - 1"
   ]
  },
  {
   "cell_type": "code",
   "execution_count": 70,
   "id": "169d1c63",
   "metadata": {},
   "outputs": [
    {
     "data": {
      "text/plain": [
       "13"
      ]
     },
     "execution_count": 70,
     "metadata": {},
     "output_type": "execute_result"
    }
   ],
   "source": [
    "lastCharacterNumber"
   ]
  },
  {
   "cell_type": "code",
   "execution_count": 71,
   "id": "3d612c0d",
   "metadata": {},
   "outputs": [],
   "source": [
    "myName = \"huseyin contravolta\""
   ]
  },
  {
   "cell_type": "code",
   "execution_count": 72,
   "id": "d90cbed2",
   "metadata": {},
   "outputs": [
    {
     "data": {
      "text/plain": [
       "13"
      ]
     },
     "execution_count": 72,
     "metadata": {},
     "output_type": "execute_result"
    }
   ],
   "source": [
    "lastCharacterNumber"
   ]
  },
  {
   "cell_type": "code",
   "execution_count": 73,
   "id": "94864dc7",
   "metadata": {},
   "outputs": [
    {
     "data": {
      "text/plain": [
       "'a'"
      ]
     },
     "execution_count": 73,
     "metadata": {},
     "output_type": "execute_result"
    }
   ],
   "source": [
    "myName[len(myName) - 1]"
   ]
  },
  {
   "cell_type": "code",
   "execution_count": 74,
   "id": "ba8819c8",
   "metadata": {},
   "outputs": [
    {
     "data": {
      "text/plain": [
       "'a'"
      ]
     },
     "execution_count": 74,
     "metadata": {},
     "output_type": "execute_result"
    }
   ],
   "source": [
    "myName[-1]"
   ]
  },
  {
   "cell_type": "code",
   "execution_count": 75,
   "id": "28c81d42",
   "metadata": {},
   "outputs": [
    {
     "data": {
      "text/plain": [
       "'t'"
      ]
     },
     "execution_count": 75,
     "metadata": {},
     "output_type": "execute_result"
    }
   ],
   "source": [
    "myName[-2]"
   ]
  },
  {
   "cell_type": "code",
   "execution_count": 76,
   "id": "a8b2a062",
   "metadata": {},
   "outputs": [],
   "source": [
    "barcode = \"ABCDE123456987\""
   ]
  },
  {
   "cell_type": "code",
   "execution_count": 77,
   "id": "5cee0f67",
   "metadata": {},
   "outputs": [
    {
     "data": {
      "text/plain": [
       "'A'"
      ]
     },
     "execution_count": 77,
     "metadata": {},
     "output_type": "execute_result"
    }
   ],
   "source": [
    "barcode[0]"
   ]
  },
  {
   "cell_type": "code",
   "execution_count": 78,
   "id": "1969c06a",
   "metadata": {},
   "outputs": [
    {
     "data": {
      "text/plain": [
       "'AB'"
      ]
     },
     "execution_count": 78,
     "metadata": {},
     "output_type": "execute_result"
    }
   ],
   "source": [
    "\"A\" + \"B\""
   ]
  },
  {
   "cell_type": "code",
   "execution_count": 80,
   "id": "3afa02e5",
   "metadata": {},
   "outputs": [],
   "source": [
    "name = \"huseyin\""
   ]
  },
  {
   "cell_type": "code",
   "execution_count": 81,
   "id": "2d0646a8",
   "metadata": {},
   "outputs": [],
   "source": [
    "surname = \"sanal\""
   ]
  },
  {
   "cell_type": "code",
   "execution_count": 82,
   "id": "7676b745",
   "metadata": {},
   "outputs": [
    {
     "data": {
      "text/plain": [
       "'huseyinsanal'"
      ]
     },
     "execution_count": 82,
     "metadata": {},
     "output_type": "execute_result"
    }
   ],
   "source": [
    "name + surname"
   ]
  },
  {
   "cell_type": "code",
   "execution_count": 83,
   "id": "edbcafca",
   "metadata": {},
   "outputs": [],
   "source": [
    "fullName = name + \" \" +  surname"
   ]
  },
  {
   "cell_type": "code",
   "execution_count": 84,
   "id": "57414742",
   "metadata": {},
   "outputs": [
    {
     "data": {
      "text/plain": [
       "'huseyin sanal'"
      ]
     },
     "execution_count": 84,
     "metadata": {},
     "output_type": "execute_result"
    }
   ],
   "source": [
    "fullName"
   ]
  },
  {
   "cell_type": "code",
   "execution_count": 85,
   "id": "0fae9bc9",
   "metadata": {},
   "outputs": [
    {
     "data": {
      "text/plain": [
       "'huseyin sanalhuseyin sanalhuseyin sanalhuseyin sanalhuseyin sanal'"
      ]
     },
     "execution_count": 85,
     "metadata": {},
     "output_type": "execute_result"
    }
   ],
   "source": [
    "fullName * 5"
   ]
  },
  {
   "cell_type": "code",
   "execution_count": 86,
   "id": "8b86d398",
   "metadata": {},
   "outputs": [
    {
     "data": {
      "text/plain": [
       "'ABCDE123456987'"
      ]
     },
     "execution_count": 86,
     "metadata": {},
     "output_type": "execute_result"
    }
   ],
   "source": [
    "barcode"
   ]
  },
  {
   "cell_type": "code",
   "execution_count": 87,
   "id": "810a66e2",
   "metadata": {},
   "outputs": [
    {
     "data": {
      "text/plain": [
       "'ABC'"
      ]
     },
     "execution_count": 87,
     "metadata": {},
     "output_type": "execute_result"
    }
   ],
   "source": [
    "barcode[0] + barcode[1] + barcode[2]"
   ]
  },
  {
   "cell_type": "code",
   "execution_count": 88,
   "id": "ebfdbf6f",
   "metadata": {},
   "outputs": [],
   "source": [
    "#slicing, starting index, stopping index, stepping size"
   ]
  },
  {
   "cell_type": "code",
   "execution_count": 89,
   "id": "073c7c04",
   "metadata": {},
   "outputs": [
    {
     "data": {
      "text/plain": [
       "'ABCDE123456987'"
      ]
     },
     "execution_count": 89,
     "metadata": {},
     "output_type": "execute_result"
    }
   ],
   "source": [
    "barcode[::]"
   ]
  },
  {
   "cell_type": "code",
   "execution_count": 90,
   "id": "817ffc84",
   "metadata": {},
   "outputs": [],
   "source": [
    "# barcode[starting index:stopping index:stepping index]"
   ]
  },
  {
   "cell_type": "code",
   "execution_count": 91,
   "id": "315fdd35",
   "metadata": {},
   "outputs": [
    {
     "data": {
      "text/plain": [
       "'DE123456987'"
      ]
     },
     "execution_count": 91,
     "metadata": {},
     "output_type": "execute_result"
    }
   ],
   "source": [
    "barcode[3::]"
   ]
  },
  {
   "cell_type": "code",
   "execution_count": 92,
   "id": "040ba7bd",
   "metadata": {},
   "outputs": [
    {
     "data": {
      "text/plain": [
       "'ABC'"
      ]
     },
     "execution_count": 92,
     "metadata": {},
     "output_type": "execute_result"
    }
   ],
   "source": [
    "barcode[:3:]"
   ]
  },
  {
   "cell_type": "code",
   "execution_count": 93,
   "id": "b5731eac",
   "metadata": {},
   "outputs": [
    {
     "data": {
      "text/plain": [
       "'ABCDE'"
      ]
     },
     "execution_count": 93,
     "metadata": {},
     "output_type": "execute_result"
    }
   ],
   "source": [
    "barcode[:5:]"
   ]
  },
  {
   "cell_type": "code",
   "execution_count": 94,
   "id": "3e4da6a1",
   "metadata": {},
   "outputs": [],
   "source": [
    "#barcode[inclusive:exclusive: ]"
   ]
  },
  {
   "cell_type": "code",
   "execution_count": 95,
   "id": "e58cc0ae",
   "metadata": {},
   "outputs": [
    {
     "data": {
      "text/plain": [
       "'ACE2468'"
      ]
     },
     "execution_count": 95,
     "metadata": {},
     "output_type": "execute_result"
    }
   ],
   "source": [
    "barcode[::2]"
   ]
  },
  {
   "cell_type": "code",
   "execution_count": 96,
   "id": "fbf2800c",
   "metadata": {},
   "outputs": [
    {
     "data": {
      "text/plain": [
       "'AD258'"
      ]
     },
     "execution_count": 96,
     "metadata": {},
     "output_type": "execute_result"
    }
   ],
   "source": [
    "barcode[::3]"
   ]
  },
  {
   "cell_type": "code",
   "execution_count": 98,
   "id": "2b6fee56",
   "metadata": {},
   "outputs": [
    {
     "data": {
      "text/plain": [
       "'ABCDE123456987'"
      ]
     },
     "execution_count": 98,
     "metadata": {},
     "output_type": "execute_result"
    }
   ],
   "source": [
    "barcode[::1]"
   ]
  },
  {
   "cell_type": "code",
   "execution_count": 99,
   "id": "8d90507b",
   "metadata": {},
   "outputs": [
    {
     "data": {
      "text/plain": [
       "'DE'"
      ]
     },
     "execution_count": 99,
     "metadata": {},
     "output_type": "execute_result"
    }
   ],
   "source": [
    "barcode[3:5:]"
   ]
  },
  {
   "cell_type": "code",
   "execution_count": 100,
   "id": "ef424a40",
   "metadata": {},
   "outputs": [
    {
     "data": {
      "text/plain": [
       "'BD13'"
      ]
     },
     "execution_count": 100,
     "metadata": {},
     "output_type": "execute_result"
    }
   ],
   "source": [
    "barcode[1:9:2]"
   ]
  },
  {
   "cell_type": "code",
   "execution_count": 101,
   "id": "7d347006",
   "metadata": {},
   "outputs": [
    {
     "data": {
      "text/plain": [
       "'789654321EDCBA'"
      ]
     },
     "execution_count": 101,
     "metadata": {},
     "output_type": "execute_result"
    }
   ],
   "source": [
    "barcode[::-1]"
   ]
  },
  {
   "cell_type": "code",
   "execution_count": 102,
   "id": "163ffddc",
   "metadata": {},
   "outputs": [
    {
     "data": {
      "text/plain": [
       "'ABCDE123456987'"
      ]
     },
     "execution_count": 102,
     "metadata": {},
     "output_type": "execute_result"
    }
   ],
   "source": [
    "barcode"
   ]
  },
  {
   "cell_type": "code",
   "execution_count": 103,
   "id": "dc8abc38",
   "metadata": {},
   "outputs": [],
   "source": [
    "name = \"huseyin sanal\""
   ]
  },
  {
   "cell_type": "code",
   "execution_count": 104,
   "id": "d654d3f5",
   "metadata": {},
   "outputs": [
    {
     "name": "stdout",
     "output_type": "stream",
     "text": [
      "Help on built-in function index:\n",
      "\n",
      "index(...) method of builtins.str instance\n",
      "    S.index(sub[, start[, end]]) -> int\n",
      "    \n",
      "    Return the lowest index in S where substring sub is found,\n",
      "    such that sub is contained within S[start:end].  Optional\n",
      "    arguments start and end are interpreted as in slice notation.\n",
      "    \n",
      "    Raises ValueError when the substring is not found.\n",
      "\n"
     ]
    }
   ],
   "source": [
    "help(name.index)"
   ]
  },
  {
   "cell_type": "code",
   "execution_count": 106,
   "id": "fdbf64f8",
   "metadata": {},
   "outputs": [
    {
     "data": {
      "text/plain": [
       "2"
      ]
     },
     "execution_count": 106,
     "metadata": {},
     "output_type": "execute_result"
    }
   ],
   "source": [
    "name.index(\"s\")"
   ]
  },
  {
   "cell_type": "code",
   "execution_count": 108,
   "id": "46622e66",
   "metadata": {},
   "outputs": [
    {
     "data": {
      "text/plain": [
       "['huseyin', 'sanal']"
      ]
     },
     "execution_count": 108,
     "metadata": {},
     "output_type": "execute_result"
    }
   ],
   "source": [
    "name.split()"
   ]
  },
  {
   "cell_type": "code",
   "execution_count": 109,
   "id": "2870dd07",
   "metadata": {},
   "outputs": [
    {
     "data": {
      "text/plain": [
       "list"
      ]
     },
     "execution_count": 109,
     "metadata": {},
     "output_type": "execute_result"
    }
   ],
   "source": [
    "type(name.split())"
   ]
  },
  {
   "cell_type": "code",
   "execution_count": null,
   "id": "cd65c1c2",
   "metadata": {},
   "outputs": [],
   "source": []
  }
 ],
 "metadata": {
  "kernelspec": {
   "display_name": "Python 3 (ipykernel)",
   "language": "python",
   "name": "python3"
  },
  "language_info": {
   "codemirror_mode": {
    "name": "ipython",
    "version": 3
   },
   "file_extension": ".py",
   "mimetype": "text/x-python",
   "name": "python",
   "nbconvert_exporter": "python",
   "pygments_lexer": "ipython3",
   "version": "3.10.9"
  }
 },
 "nbformat": 4,
 "nbformat_minor": 5
}
